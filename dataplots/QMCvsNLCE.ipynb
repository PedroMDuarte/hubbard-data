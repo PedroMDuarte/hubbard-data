{
 "metadata": {
  "name": "",
  "signature": "sha256:e09e7bb6d8658ea1d1ddaac371e13b575f20eacd32fd412262ee076bf28c96f8"
 },
 "nbformat": 3,
 "nbformat_minor": 0,
 "worksheets": [
  {
   "cells": [
    {
     "cell_type": "markdown",
     "metadata": {},
     "source": [
      "## Comparison between QMC and NLCD.  Density and Spi"
     ]
    },
    {
     "cell_type": "code",
     "collapsed": false,
     "input": [
      "from matplotlib import rc\n",
      "rc('font', **{'family':'serif'})\n",
      "rc('text', usetex=True)\n",
      "\n",
      "import sys\n",
      "sys.path.append('../')\n",
      "\n",
      "# QMC data columns \n",
      "MUCOL = 0\n",
      "DENSCOL = 1\n",
      "SPInCOL = 3\n",
      "\n",
      "# NLCE data columns\n",
      "NLCE_MUCOL = 0\n",
      "NLCE_DENSCOL = 1\n",
      "NLCE_SPInCOL= 4 \n",
      "\n",
      "gs = matplotlib.gridspec.GridSpec(1,2,\\\n",
      "      wspace=0.25, hspace=0.05,\\\n",
      "      left=0.12, right=0.95, bottom=0.17, top=0.96)\n",
      "\n",
      "fig = plt.figure( figsize(4.5,2.0))\n",
      "axn = fig.add_subplot( gs[0])\n",
      "axSnn = fig.add_subplot( gs[1] )\n",
      "\n",
      "\n",
      "from colorChooser import rgb_to_hex, cmapCycle\n",
      "\n",
      "Uval = 10. \n",
      "NLCE_Uval = 10. \n",
      "\n",
      "    \n",
      "Tvals = [0.357, 0.40, 0.50, 0.667, 1.00, 2.4 ][::-1]\n",
      "for j, Tval in enumerate(Tvals):\n",
      "\n",
      "    color = cmapCycle( matplotlib.cm.spectral, float(len(Tvals)-1-j), lbound=0, ubound=float(len(Tvals)+0))\n",
      "    # get QMC data\n",
      "    try:\n",
      "        fname =  '../QMC_Final/'+ 'U{U:02d}/T{T:0.3f}.dat'.format(U=int(Uval),T=Tval)\n",
      "        dat = np.loadtxt(fname)\n",
      "        axn.plot( dat[:,MUCOL], dat[:,DENSCOL], color=color, label='${:0.2f}$'.format(Tval))\n",
      "        l1, = axSnn.plot( dat[:,DENSCOL], dat[:,SPInCOL], color=color, label='${:0.2f}$'.format(Tval))\n",
      "    except Exception as e:\n",
      "        print e\n",
      "        \n",
      "\n",
      "    try:\n",
      "        if Tval == 0.667:\n",
      "            NLCE_Tval = 0.64\n",
      "        else:\n",
      "            NLCE_Tval = Tval\n",
      "        # get the NLCE data \n",
      "        fname = '../NLCE8_Final/U{:02d}/T{:.2f}.dat'.format(int(NLCE_Uval),NLCE_Tval)\n",
      "        dat = np.loadtxt(fname)\n",
      "        axn.plot( dat[:,NLCE_MUCOL], dat[:,NLCE_DENSCOL], '.', color=color, lw=2., alpha=0.3)\n",
      "        l2, = axSnn.plot( dat[:,NLCE_DENSCOL], dat[:,NLCE_SPInCOL], '.',color=color, lw=2., alpha=0.3)\n",
      "    except:\n",
      "        pass\n",
      "\n",
      "    if j == 3:\n",
      "        handles = [l1,l2]\n",
      "        \n",
      "    \n",
      "        \n",
      "        \n",
      "axn.legend(title='$T/t$',bbox_to_anchor=(0.95,0.04), loc='lower right', numpoints=1, \\\n",
      "       prop={'size':6}, handlelength=1.1, handletextpad=0.5)\n",
      "\n",
      "# different U for QMC and NLCE:\n",
      "#axSnn.legend( handles, ('QMC\\n$U/t={:d}$'.format(int(Uval)),'NLCE\\n$U/t={:d}$'.format(int(NLCE_Uval))), \\\n",
      "#             bbox_to_anchor=(0.98,0.95), loc='upper right', numpoints=1, \\\n",
      "#       prop={'size':6}, handlelength=1.1, handletextpad=0.5)\n",
      "# same U\n",
      "axSnn.legend( handles, ('QMC','NLCE'), \\\n",
      "             bbox_to_anchor=(0.98,0.95), loc='upper right', numpoints=1, \\\n",
      "       prop={'size':6}, handlelength=1.1, handletextpad=0.5)\n",
      "\n",
      "axn.set_ylim(-0.2, 2.2) \n",
      "axSnn.set_ylim(-0.2,7.0)\n",
      "\n",
      "axn.set_ylabel('$n$', rotation=0,labelpad=11)\n",
      "axSnn.set_ylabel(r'$\\frac{s_{\\pi}}{n}$', rotation=0,labelpad=11, fontsize=14)\n",
      "\n",
      "axn.set_xlabel(r'$\\mu/t$',labelpad=-1)\n",
      "axSnn.set_xlabel(r'$n$',labelpad=-1)\n",
      "\n",
      "axn.set_xlim(-10.,24)\n",
      "axSnn.set_xlim(0.4,1.6)\n",
      "\n",
      "for ax in [axn, axSnn]:\n",
      "    ax.grid(alpha=0.4)\n",
      "    ax.xaxis.set_major_locator( matplotlib.ticker.MaxNLocator(6, prune='lower'))\n",
      "    ax.text( 0.05, 1.0, '$U/t={:d}$'.format(int(Uval)), \\\n",
      "             ha='left', va='top', transform=ax.transAxes,\n",
      "             bbox={'boxstyle':'round','facecolor':'white'})\n",
      "\n",
      "\n",
      "fig.savefig('QMC_Final/QMC_NLCE_Compare_U{:02d}.png'.format(int(Uval)), dpi=300)\n",
      "plt.close(fig)\n"
     ],
     "language": "python",
     "metadata": {},
     "outputs": [
      {
       "output_type": "stream",
       "stream": "stdout",
       "text": [
        "[Errno 2] No such file or directory: '../QMC_Final/U10/T2.400.dat'\n",
        "[Errno 2] No such file or directory: '../QMC_Final/U10/T1.000.dat'\n",
        "[Errno 2] No such file or directory: '../QMC_Final/U10/T0.400.dat'"
       ]
      },
      {
       "output_type": "stream",
       "stream": "stdout",
       "text": [
        "\n",
        "[Errno 2] No such file or directory: '../QMC_Final/U10/T0.357.dat'\n"
       ]
      }
     ],
     "prompt_number": 10
    },
    {
     "cell_type": "code",
     "collapsed": false,
     "input": [],
     "language": "python",
     "metadata": {},
     "outputs": []
    }
   ],
   "metadata": {}
  }
 ]
}